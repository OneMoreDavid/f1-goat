{
 "cells": [
  {
   "cell_type": "markdown",
   "metadata": {},
   "source": [
    "# F1-Goat - What is the Purpose? \n",
    "\n",
    "Original date from here: [Source] (https://www.kaggle.com/datasets/jtrotman/formula-1-race-data/)\n",
    "\n",
    "# Aims / Goals for this project: \n",
    "\n",
    "- Understand how the changes to the historic point systems could have impacted world championships \n",
    "- Can we normalise the points from different championships to see how drivers compare \n",
    "\n",
    "Would cvhampionships have been won or lost with point systems from different periods? \n",
    "\n",
    "History of Point Systems [Wiki] (https://en.wikipedia.org/wiki/List_of_Formula_One_World_Championship_points_scoring_systems#Points_scoring_systems)\n",
    "\n",
    "- top 5 (8, 6, 4, 3, 2) + 1 for fastest lap\n",
    "- top 6 (8, 6, 4, 3, 2, 1)\n",
    "- top 6 (9, 6, 4, 3, 2, 1)\n",
    "- top 6 (10, 6, 4, 3, 2, 1)\n",
    "- top 8 (10, 8, 6, 5, 4, 3, 2, 1)\n",
    "- top 10 (25, 18, 15, 12, 10, 8, 6, 4, 2, 1) \n",
    "- 2014 = Double points for last race\n",
    "- top 10 (25, 18, 15, 12, 10, 8, 6, 4, 2, 1) + 1 for fastest lap\n",
    "\n",
    "-----------\n",
    "\n",
    "Perhaps we can also look at greatest qualifiers ? \n",
    "- would championships look different if there was an extra point for pole qualification position? "
   ]
  },
  {
   "cell_type": "markdown",
   "metadata": {},
   "source": [
    "# Output: \n",
    "\n",
    "- We want to evaluate the existing data\n",
    "- we want to see is we changed scoring in different seasons would that change the driver/constructor championships?\n",
    "- can we find number of championships by country? \n",
    "- need some kind of frontend to allow people to toggle the different things that we try in the backend "
   ]
  }
 ],
 "metadata": {
  "kernelspec": {
   "display_name": "Python 3",
   "language": "python",
   "name": "python3"
  },
  "language_info": {
   "codemirror_mode": {
    "name": "ipython",
    "version": 3
   },
   "file_extension": ".py",
   "mimetype": "text/x-python",
   "name": "python",
   "nbconvert_exporter": "python",
   "pygments_lexer": "ipython3",
   "version": "3.9.4"
  },
  "orig_nbformat": 4
 },
 "nbformat": 4,
 "nbformat_minor": 2
}
